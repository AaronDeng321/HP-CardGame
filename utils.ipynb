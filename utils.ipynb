{
 "cells": [
  {
   "cell_type": "code",
   "execution_count": 158,
   "metadata": {},
   "outputs": [
    {
     "name": "stdout",
     "output_type": "stream",
     "text": [
      "(1080, 2340, 3)\n"
     ]
    },
    {
     "data": {
      "text/plain": [
       "True"
      ]
     },
     "execution_count": 158,
     "metadata": {},
     "output_type": "execute_result"
    }
   ],
   "source": [
    "# 获取单元格icon\n",
    "import cv2\n",
    "from matplotlib import pyplot as plt\n",
    "\n",
    "filepath = \"./samples/00.jpeg\"\n",
    "img = cv2.imread(filepath)\n",
    "print(img.shape)\n",
    "\n",
    "icon_width = 120\n",
    "left_top_coord_0 = (216, 591)\n",
    "left_top_coord = left_top_coord_0\n",
    "# img = img[left_top_coord[0]:left_top_coord[0]+icon_width, left_top_coord[1]:left_top_coord[1]+icon_width]\n",
    "space_vertical = 21\n",
    "space_horizontal_1 = 16\n",
    "space_horizontal_2 = 37\n",
    "space_horizontal_3 = 44\n",
    "space_horizontal = (space_horizontal_2, space_horizontal_1, space_horizontal_3)\n",
    "\n",
    "\n",
    "# left_top_coord = (left_top_coord[0], left_top_coord[1] + icon_width + space_horizontal_1)\n",
    "# img = img[left_top_coord[0]:left_top_coord[0]+icon_width, left_top_coord[1]:left_top_coord[1]+icon_width]\n",
    "\n",
    "# left_top_coord = (left_top_coord[0], left_top_coord[1] + icon_width + space_horizontal_2)\n",
    "# img = img[left_top_coord[0]:left_top_coord[0]+icon_width, left_top_coord[1]:left_top_coord[1]+icon_width]\n",
    "\n",
    "# 获取icon\n",
    "for row in range(5):\n",
    "    if row == 0:\n",
    "        offset = 0\n",
    "    else:\n",
    "        offset = space_vertical + icon_width\n",
    "    left_top_coord = (left_top_coord[0] + offset, left_top_coord[1])\n",
    "\n",
    "    left_top_coord_col = left_top_coord\n",
    "    for col in range(8):\n",
    "        if col == 0:\n",
    "            offset = 0\n",
    "        elif col == 4:\n",
    "            offset = space_horizontal[2] + icon_width\n",
    "        else:\n",
    "            offset = space_horizontal[col%2] + icon_width\n",
    "        left_top_coord_col = (left_top_coord_col[0], left_top_coord_col[1] + offset) \n",
    "        img_crop = img[left_top_coord_col[0]:left_top_coord_col[0]+icon_width, left_top_coord_col[1]:left_top_coord_col[1]+icon_width]\n",
    "        cv2.imwrite(\"test_imgs/test_{}_{}.jpeg\".format(row, col), img_crop)\n",
    "\n",
    "\n",
    "# 获取纵列icon\n",
    "# left_top_coord = left_top_coord_0\n",
    "# offset = space_vertical\n",
    "# img = img[left_top_coord[0]+icon_width+space_vertical:left_top_coord[0]+2*icon_width+offset, left_top_coord[1]:left_top_coord[1]+icon_width]\n",
    "\n",
    "# cv2.imwrite(\"test.jpeg\", img)"
   ]
  },
  {
   "cell_type": "code",
   "execution_count": 56,
   "metadata": {},
   "outputs": [],
   "source": []
  }
 ],
 "metadata": {
  "kernelspec": {
   "display_name": "Python 3.10.0 ('tzkmeans')",
   "language": "python",
   "name": "python3"
  },
  "language_info": {
   "codemirror_mode": {
    "name": "ipython",
    "version": 3
   },
   "file_extension": ".py",
   "mimetype": "text/x-python",
   "name": "python",
   "nbconvert_exporter": "python",
   "pygments_lexer": "ipython3",
   "version": "3.10.0"
  },
  "orig_nbformat": 4,
  "vscode": {
   "interpreter": {
    "hash": "f675f426a27b8d2e0d776cffb26de5b873184018e2b59f60e6d4aaed79bba018"
   }
  }
 },
 "nbformat": 4,
 "nbformat_minor": 2
}
